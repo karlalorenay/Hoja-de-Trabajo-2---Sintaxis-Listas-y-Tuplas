{
 "cells": [
  {
   "cell_type": "markdown",
   "metadata": {},
   "source": [
    "Parte No.1 Hoja de Trabajo 2\n",
    "========"
   ]
  },
  {
   "cell_type": "markdown",
   "metadata": {},
   "source": [
    "1.Inicio Ejercicio 1"
   ]
  },
  {
   "cell_type": "code",
   "execution_count": 15,
   "metadata": {},
   "outputs": [
    {
     "name": "stdout",
     "output_type": "stream",
     "text": [
      "Ingrese los Segundos\n",
      "5871\n",
      "Horas: 1, Minutos: 37, Segundos: 51\n"
     ]
    }
   ],
   "source": [
    "dat=int(input('Ingrese los Segundos\\n'))\n",
    "hora=(int(dat/3600))\n",
    "minu=int((dat-(hora*3600))/60)\n",
    "seg=dat-((hora*3600)+(minu*60))\n",
    "print(\"Horas: \"+str(hora)+\",\"+\" Minutos: \"+str(minu)+\",\"+\" Segundos: \"+str(seg))"
   ]
  },
  {
   "cell_type": "markdown",
   "metadata": {},
   "source": [
    "2.Inicio Ejercicio 2"
   ]
  },
  {
   "cell_type": "code",
   "execution_count": 93,
   "metadata": {},
   "outputs": [
    {
     "name": "stdout",
     "output_type": "stream",
     "text": [
      "Introduce un numero del 1 al 20: 5\n",
      "Introduce un caracter: *\n",
      "\n",
      "*\n",
      "**\n",
      "***\n",
      "****\n",
      "*****\n",
      " \n",
      "*****\n",
      " ****\n",
      "  ***\n",
      "   **\n",
      "    *\n",
      " \n",
      "*****\n",
      "****\n",
      "***\n",
      "**\n",
      "*\n",
      "     \n",
      "    *\n",
      "   **\n",
      "  ***\n",
      " ****\n",
      "*****\n"
     ]
    }
   ],
   "source": [
    "n=int(input(\"Introduce un numero del 1 al 20: \"))\n",
    "c=str(input(\"Introduce un caracter: \"))\n",
    "\n",
    "for i in range (n+1):\n",
    "    print(c*i)\n",
    "\n",
    "print(\" \")\n",
    "    \n",
    "for i in range (n,0,-1):\n",
    "    espacios=n-i\n",
    "    print (' '*espacios+c*i)\n",
    "    \n",
    "print(\" \")\n",
    "    \n",
    "for i in range (n,0,-1):\n",
    "    espacios=i-n\n",
    "    print (' '*espacios+c*i)\n",
    "    \n",
    "for i in range (n+1):\n",
    "    espacios=n-i\n",
    "    print (' '*espacios+c*i)\n",
    "    \n"
   ]
  },
  {
   "cell_type": "markdown",
   "metadata": {},
   "source": [
    "3.Inicio Ejercicio 3"
   ]
  },
  {
   "cell_type": "code",
   "execution_count": 54,
   "metadata": {},
   "outputs": [
    {
     "name": "stdout",
     "output_type": "stream",
     "text": [
      "Introduce tu día de nacimiento: 25\n",
      "Introduce tu mes de nacimiento: 11\n",
      "Introduce tu ano de nacimiento: 1988\n",
      "La edad es 32\n"
     ]
    }
   ],
   "source": [
    "from datetime import date\n",
    "\n",
    "dia=int(input(\"Introduce tu día de nacimiento: \"))\n",
    "mes=int(input(\"Introduce tu mes de nacimiento: \"))\n",
    "year=int(input(\"Introduce tu ano de nacimiento: \"))\n",
    "\n",
    "year_actual=date.today().year\n",
    "mes_actual=date.today().month\n",
    "dia_actual=date.today().day\n",
    "\n",
    "edad = year_actual - year\n",
    "\n",
    "if mes > mes_actual:\n",
    "    if dia > dia_actual:\n",
    "        edad=edad - 1\n",
    "        print(\"La edad es\",edad)\n",
    "else:\n",
    "    print (\"La edad es\",edad)\n",
    "\n",
    "\n",
    "if mes > mes_actual:\n",
    "    if dia < dia_actual:\n",
    "        edad = edad-1\n",
    "        print (\"La edad es\",edad)\n",
    "\n",
    "\n",
    "\n"
   ]
  },
  {
   "cell_type": "markdown",
   "metadata": {},
   "source": [
    "Parte No.2 Hoja de Trabajo 2\n",
    "========"
   ]
  },
  {
   "cell_type": "markdown",
   "metadata": {},
   "source": [
    "1.Inicio Ejercicio 1"
   ]
  },
  {
   "cell_type": "code",
   "execution_count": 75,
   "metadata": {},
   "outputs": [
    {
     "name": "stdout",
     "output_type": "stream",
     "text": [
      "102040570\n"
     ]
    }
   ],
   "source": [
    "entrada = (10, 20, 40, 5, 70)\n",
    "union = \"{}\".format(''.join(str(p) for p in entrada))\n",
    "print(union)"
   ]
  },
  {
   "cell_type": "markdown",
   "metadata": {},
   "source": [
    "2.Inicio Ejercicio 2"
   ]
  },
  {
   "cell_type": "code",
   "execution_count": 81,
   "metadata": {},
   "outputs": [
    {
     "name": "stdout",
     "output_type": "stream",
     "text": [
      "['X', ('a', 'b'), ('a', 'b', 'c'), 'd']\n"
     ]
    }
   ],
   "source": [
    "tupla = [(),(),('X'),('a','b'),('a','b','c'),('d')]\n",
    "tupla = [t for t in tupla if t]\n",
    "print(tupla)\n"
   ]
  },
  {
   "cell_type": "code",
   "execution_count": 98,
   "metadata": {},
   "outputs": [
    {
     "ename": "TypeError",
     "evalue": "unsupported operand type(s) for +: 'int' and 'tuple'",
     "output_type": "error",
     "traceback": [
      "\u001b[0;31m---------------------------------------------------------------------------\u001b[0m",
      "\u001b[0;31mTypeError\u001b[0m                                 Traceback (most recent call last)",
      "\u001b[0;32m<ipython-input-98-09a1996afc66>\u001b[0m in \u001b[0;36m<module>\u001b[0;34m\u001b[0m\n\u001b[1;32m      1\u001b[0m \u001b[0mn\u001b[0m \u001b[0;34m=\u001b[0m \u001b[0;34m[\u001b[0m\u001b[0;34m(\u001b[0m\u001b[0;36m10\u001b[0m\u001b[0;34m,\u001b[0m\u001b[0;36m10\u001b[0m\u001b[0;34m,\u001b[0m\u001b[0;36m10\u001b[0m\u001b[0;34m,\u001b[0m\u001b[0;36m12\u001b[0m\u001b[0;34m)\u001b[0m\u001b[0;34m,\u001b[0m\u001b[0;34m(\u001b[0m\u001b[0;36m30\u001b[0m\u001b[0;34m,\u001b[0m\u001b[0;36m45\u001b[0m\u001b[0;34m,\u001b[0m\u001b[0;36m56\u001b[0m\u001b[0;34m,\u001b[0m\u001b[0;36m45\u001b[0m\u001b[0;34m)\u001b[0m\u001b[0;34m,\u001b[0m\u001b[0;34m(\u001b[0m\u001b[0;36m81\u001b[0m\u001b[0;34m,\u001b[0m\u001b[0;36m80\u001b[0m\u001b[0;34m,\u001b[0m\u001b[0;36m39\u001b[0m\u001b[0;34m,\u001b[0m\u001b[0;36m32\u001b[0m\u001b[0;34m)\u001b[0m\u001b[0;34m]\u001b[0m\u001b[0;34m\u001b[0m\u001b[0;34m\u001b[0m\u001b[0m\n\u001b[0;32m----> 2\u001b[0;31m \u001b[0maverage\u001b[0m \u001b[0;34m=\u001b[0m \u001b[0msum\u001b[0m\u001b[0;34m(\u001b[0m\u001b[0mn\u001b[0m\u001b[0;34m)\u001b[0m \u001b[0;34m/\u001b[0m \u001b[0mlen\u001b[0m\u001b[0;34m(\u001b[0m\u001b[0mn\u001b[0m\u001b[0;34m)\u001b[0m\u001b[0;34m\u001b[0m\u001b[0;34m\u001b[0m\u001b[0m\n\u001b[0m\u001b[1;32m      3\u001b[0m \u001b[0mprint\u001b[0m\u001b[0;34m(\u001b[0m\u001b[0mround\u001b[0m\u001b[0;34m(\u001b[0m\u001b[0maverage\u001b[0m\u001b[0;34m,\u001b[0m\u001b[0;36m2\u001b[0m\u001b[0;34m)\u001b[0m\u001b[0;34m)\u001b[0m\u001b[0;34m\u001b[0m\u001b[0;34m\u001b[0m\u001b[0m\n",
      "\u001b[0;31mTypeError\u001b[0m: unsupported operand type(s) for +: 'int' and 'tuple'"
     ]
    }
   ],
   "source": [
    "n = [(10,10,10,12),(30,45,56,45),(81,80,39,32)]\n",
    "average = sum(n) / len(n)\n",
    "print(round(average,2))"
   ]
  },
  {
   "cell_type": "code",
   "execution_count": null,
   "metadata": {},
   "outputs": [],
   "source": []
  }
 ],
 "metadata": {
  "kernelspec": {
   "display_name": "Python 3",
   "language": "python",
   "name": "python3"
  }
 },
 "nbformat": 4,
 "nbformat_minor": 4
}
